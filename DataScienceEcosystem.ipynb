{
 "cells": [
  {
   "cell_type": "markdown",
   "id": "76b3e838-1260-4321-a4cd-c0d7f1823fd6",
   "metadata": {},
   "source": [
    "**<h1>Data Science Tools and Ecosystem</H1>**"
   ]
  },
  {
   "cell_type": "markdown",
   "id": "c865e46e-7fdd-49f4-aa10-7cb6d65a163f",
   "metadata": {
    "tags": []
   },
   "source": [
    "**In this notebook, Data Science Tools and Ecosystem are summarized.**"
   ]
  },
  {
   "cell_type": "markdown",
   "id": "e6c744e4-8b2b-4f07-8a94-7e7a018fe63a",
   "metadata": {
    "tags": []
   },
   "source": [
    "__Objectives:__\n",
    "<ul>+Popular Languages Used on Data Science</ul>\n",
    "<ul>+Data Science Tools</ul>\n",
    "<ul>+Data Libraries and Open Source Tools</ul>\n"
   ]
  },
  {
   "cell_type": "markdown",
   "id": "14c295cc-eeaa-4586-8bde-1e8aa52b71b7",
   "metadata": {},
   "source": [
    "<p>Some of the popular languages that Data Scientists use are:</p>"
   ]
  },
  {
   "cell_type": "markdown",
   "id": "8ebd0222-4ec9-47fa-beb2-56beacd5b45d",
   "metadata": {
    "tags": []
   },
   "source": [
    "<ul>Scala</ul>\n",
    "<ul>Python</ul>\n",
    "<ul>R Programming</ul>"
   ]
  },
  {
   "cell_type": "markdown",
   "id": "eae80939-05a1-432c-b93f-8d27892f0031",
   "metadata": {
    "tags": []
   },
   "source": [
    "<p>Some of the commonly used libraries used by Data Scientists include:</p>"
   ]
  },
  {
   "cell_type": "markdown",
   "id": "e1dc9250-d27e-4aa8-8153-b3e8a53dce1a",
   "metadata": {
    "tags": []
   },
   "source": [
    "<ul>1. Scipy</ul>\n",
    "<ul>2. Pandas</ul>\n",
    "<ul>3. Matplotlib</ul>"
   ]
  },
  {
   "cell_type": "markdown",
   "id": "8870de08-e62d-493e-b4ed-166d5ce75361",
   "metadata": {},
   "source": [
    "<p> Data Science Tools</p>"
   ]
  },
  {
   "cell_type": "markdown",
   "id": "7cea2fd7-57d6-4053-be4e-9b0e68dccaa6",
   "metadata": {},
   "source": [
    "|Data Science Tools|\n",
    "--------------------\n",
    "| Hadoop|\n",
    "|TensorFlow|\n",
    "|RStudio|"
   ]
  },
  {
   "cell_type": "markdown",
   "id": "52b75c5d-94f3-4f4f-aba2-a8a9c7c52696",
   "metadata": {},
   "source": [
    "Below are a few examples of evaluating arithmetic expressions in Python"
   ]
  },
  {
   "cell_type": "code",
   "execution_count": 6,
   "id": "687e8c27-0fc5-47e1-a804-e384b49923b9",
   "metadata": {
    "tags": []
   },
   "outputs": [
    {
     "data": {
      "text/plain": [
       "17"
      ]
     },
     "execution_count": 6,
     "metadata": {},
     "output_type": "execute_result"
    }
   ],
   "source": [
    "(3*4)+5"
   ]
  },
  {
   "cell_type": "markdown",
   "id": "e1a073fe-ebbe-4930-b4e2-20b823b35c7a",
   "metadata": {},
   "source": [
    "**Time Converter**"
   ]
  },
  {
   "cell_type": "code",
   "execution_count": 7,
   "id": "e5214a99-e4f4-4abb-9bd5-eba7452d6187",
   "metadata": {
    "tags": []
   },
   "outputs": [
    {
     "data": {
      "text/plain": [
       "3.3333333333333335"
      ]
     },
     "execution_count": 7,
     "metadata": {},
     "output_type": "execute_result"
    }
   ],
   "source": [
    "minutes_to_convert = 200\n",
    "hours_result = minutes_to_convert / 60\n",
    "hours_result\n"
   ]
  },
  {
   "cell_type": "markdown",
   "id": "a7407e62-29e0-4bd7-a1d8-83703831ee06",
   "metadata": {},
   "source": [
    "<h2>Author</h2>\n",
    "<p>S. Basir </p>"
   ]
  },
  {
   "cell_type": "code",
   "execution_count": null,
   "id": "bcd504f8-98e6-439f-b0fb-19e436c1d182",
   "metadata": {},
   "outputs": [],
   "source": []
  },
  {
   "cell_type": "code",
   "execution_count": null,
   "id": "c6ef9d08-6348-4ed1-b9b0-1f6241ed034c",
   "metadata": {},
   "outputs": [],
   "source": []
  }
 ],
 "metadata": {
  "kernelspec": {
   "display_name": "Python",
   "language": "python",
   "name": "conda-env-python-py"
  },
  "language_info": {
   "codemirror_mode": {
    "name": "ipython",
    "version": 3
   },
   "file_extension": ".py",
   "mimetype": "text/x-python",
   "name": "python",
   "nbconvert_exporter": "python",
   "pygments_lexer": "ipython3",
   "version": "3.7.12"
  }
 },
 "nbformat": 4,
 "nbformat_minor": 5
}
